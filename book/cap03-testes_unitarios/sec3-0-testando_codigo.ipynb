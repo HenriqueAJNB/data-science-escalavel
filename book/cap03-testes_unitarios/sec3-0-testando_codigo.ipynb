{
 "cells": [
  {
   "cell_type": "code",
   "execution_count": 11,
   "id": "6d4ccd57",
   "metadata": {
    "ExecuteTime": {
     "end_time": "2022-03-31T02:16:16.755459Z",
     "start_time": "2022-03-31T02:16:16.748513Z"
    },
    "tags": [
     "remove-cell"
    ]
   },
   "outputs": [],
   "source": [
    "import warnings\n",
    "warnings.filterwarnings(\"ignore\")"
   ]
  },
  {
   "cell_type": "markdown",
   "id": "fb6cdba3",
   "metadata": {},
   "source": [
    "# Testando o código"
   ]
  },
  {
   "cell_type": "markdown",
   "id": "71413b29",
   "metadata": {},
   "source": [
    "```{admonition} Fonte dos vídeos\n",
    ":class: note\n",
    "\n",
    "Todos os vídeos são da própria autora do livro original.\n",
    "```"
   ]
  },
  {
   "cell_type": "code",
   "execution_count": 12,
   "id": "8de8df0b",
   "metadata": {
    "ExecuteTime": {
     "end_time": "2022-03-31T02:28:05.489015Z",
     "start_time": "2022-03-31T02:28:05.478971Z"
    },
    "tags": [
     "remove-input"
    ]
   },
   "outputs": [
    {
     "data": {
      "text/html": [
       "<iframe width=\"560\"height=\"315\"src=\"https://www.youtube.com/embed/sfI1oDj6syY\"title=\"YouTube video player\"frameborder=\"0\"allow=\"accelerometer; autoplay; clipboard-write; encrypted-media; gyroscope; picture-in-picture\"allowfullscreen></iframe>"
      ],
      "text/plain": [
       "<IPython.core.display.HTML object>"
      ]
     },
     "execution_count": 12,
     "metadata": {},
     "output_type": "execute_result"
    }
   ],
   "source": [
    "from IPython.display import HTML\n",
    "\n",
    "HTML(\n",
    "    '<iframe width=\"560\"' +\n",
    "    'height=\"315\"' +\n",
    "    'src=\"https://www.youtube.com/embed/sfI1oDj6syY\"' + \n",
    "    'title=\"YouTube video player\"' + \n",
    "    'frameborder=\"0\"' +\n",
    "    'allow=\"accelerometer; autoplay; clipboard-write; encrypted-media; gyroscope; picture-in-picture\"' +\n",
    "    'allowfullscreen>' +\n",
    "    '</iframe>'\n",
    ")"
   ]
  },
  {
   "cell_type": "markdown",
   "id": "691b0cb2",
   "metadata": {},
   "source": [
    "É super prático e divertido brincar com o código para processar dados em um arquivo Jupyter Notebook `.ipynb`, mas para tornar seu código escalável, sugere-se quebrá-lo em funções e classes. Quando você usa scripts `.py` ao invés de notebooks `ipynb` seu código pode quebrar por causa de algumas funções. E mesmo se não quebrar, como você saberá se as suas funções comportam-se como você espera?\n",
    "\n",
    "\n",
    "Por exemplo, criamos a função para extrair o sentimento de um texto com a [TextBlob](https://textblob.readthedocs.io/en/dev/), uma biblioteca Python para processamento de dados textuais. Nós gostaríamos de garantir que ela funciona como o esperado: que a função retorne um valor maior que 0 quando o texto for positivo, e que retorne um valor menor que 0 quando o texto for negativo.\n",
    "\n",
    "```python\n",
    "from textblob import TextBlob\n",
    "\n",
    "def extract_sentiment(text: str):\n",
    "        '''Extrai um sentimento usando textblob. \n",
    "        Polaridade está no intervalo [-1, 1]'''\n",
    "\n",
    "        text = TextBlob(text)\n",
    "\n",
    "        return text.sentiment.polarity\n",
    "```\n",
    "\n",
    "Para testar se a função retornará sempre o mesmo valor todas as vezes, a melhor forma é submeter a função à vários exemplos para ver se ela reproduz os resultados que desejamos. É quando os testes unitários demonstram sua importância.\n",
    "\n",
    "In general, you should use testing for your data science projects because it allows you to:\n",
    "De forma geral, devemos usar testes unitários em nossos projetos de ciência de dados porque ele permite:\n",
    "\n",
    "-   Make sure the code works as expected\n",
    "-   Garantir que o código funcione como o esperado\n",
    "-   Detectar casos extremos\n",
    "-   Sentir confiança para mergulhar no código sem medo de quebrar o pipeline inteiro\n",
    "-   Seus colegas conseguem entender sua função simplesmente olhando seus respectivos testes.\n",
    "\n",
    "Neste capítulo, vamos aprender como testar o nosso código com Pytest.\n"
   ]
  }
 ],
 "metadata": {
  "celltoolbar": "Tags",
  "kernelspec": {
   "display_name": "Python 3 (ipykernel)",
   "language": "python",
   "name": "python3"
  },
  "language_info": {
   "codemirror_mode": {
    "name": "ipython",
    "version": 3
   },
   "file_extension": ".py",
   "mimetype": "text/x-python",
   "name": "python",
   "nbconvert_exporter": "python",
   "pygments_lexer": "ipython3",
   "version": "3.9.9"
  },
  "toc": {
   "base_numbering": 1,
   "nav_menu": {},
   "number_sections": true,
   "sideBar": true,
   "skip_h1_title": false,
   "title_cell": "Table of Contents",
   "title_sidebar": "Contents",
   "toc_cell": false,
   "toc_position": {},
   "toc_section_display": true,
   "toc_window_display": false
  }
 },
 "nbformat": 4,
 "nbformat_minor": 5
}
