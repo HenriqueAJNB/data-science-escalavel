{
 "cells": [
  {
   "cell_type": "code",
   "execution_count": 1,
   "id": "efc5377b",
   "metadata": {
    "ExecuteTime": {
     "end_time": "2022-03-31T02:19:34.509812Z",
     "start_time": "2022-03-31T02:19:34.503682Z"
    },
    "tags": [
     "remove-cell"
    ]
   },
   "outputs": [],
   "source": [
    "import warnings\n",
    "warnings.filterwarnings(\"ignore\")"
   ]
  },
  {
   "cell_type": "markdown",
   "id": "a941aca0",
   "metadata": {},
   "source": [
    "## Pytest para cientista de dados"
   ]
  },
  {
   "cell_type": "markdown",
   "id": "553b957c",
   "metadata": {},
   "source": [
    "```{admonition} Fonte dos vídeos\n",
    ":class: note\n",
    "\n",
    "Todos os vídeos são da própria autora do livro original.\n",
    "```"
   ]
  },
  {
   "cell_type": "markdown",
   "id": "588ad872",
   "metadata": {},
   "source": [
    "<img src=\"https://user-images.githubusercontent.com/72529112/165227426-638a9596-de98-49a6-a02b-c24d904046ca.jpg\" style=\"width:800px; height:545px\"/>"
   ]
  },
  {
   "cell_type": "markdown",
   "id": "247757e1",
   "metadata": {},
   "source": [
    "### O que é o Pytest?\n",
    "\n",
    "[Pytest](https://docs.pytest.org/en/stable/) é um framework que facilita a escrita de testes unitários em Python. A autora original do livro afirma gostar do Pytest pois permite a escrita de teses com pouco código, e eu, autor da tradução, concordo plenamente com ela. Se você já está familiarizado com testes unitários, pytest é uma grande ferramenta para sair da inércia.\n",
    "\n",
    "Para instalar o pytest, basta rodar no terminal:\n",
    "\n",
    "```bash\n",
    "pip install pytest\n",
    "```\n",
    "\n",
    "Caso estiver usando o poetry:\n",
    "\n",
    "```bash\n",
    "poetry add pytest\n",
    "```"
   ]
  },
  {
   "cell_type": "code",
   "execution_count": 2,
   "id": "be543dfc",
   "metadata": {
    "ExecuteTime": {
     "end_time": "2022-03-31T02:19:36.364405Z",
     "start_time": "2022-03-31T02:19:36.353438Z"
    },
    "tags": [
     "remove-input"
    ]
   },
   "outputs": [
    {
     "data": {
      "text/html": [
       "<iframe width=\"560\"height=\"315\"src=\"https://www.youtube.com/embed/Y9tJeUIg-kc\"title=\"YouTube video player\"frameborder=\"0\" allow=\"accelerometer; autoplay; clipboard-write; encrypted-media; gyroscope; picture-in-picture\"allowfullscreen></iframe>"
      ],
      "text/plain": [
       "<IPython.core.display.HTML object>"
      ]
     },
     "execution_count": 2,
     "metadata": {},
     "output_type": "execute_result"
    }
   ],
   "source": [
    "from IPython.display import HTML\n",
    "\n",
    "# Youtube\n",
    "HTML(\n",
    "    '<iframe width=\"560\"' + \n",
    "    'height=\"315\"' + \n",
    "    'src=\"https://www.youtube.com/embed/Y9tJeUIg-kc\"' + \n",
    "    'title=\"YouTube video player\"' + \n",
    "    'frameborder=\"0\" allow=\"accelerometer; autoplay; clipboard-write; encrypted-media; gyroscope; picture-in-picture\"' + \n",
    "    'allowfullscreen>' + \n",
    "    '</iframe>'\n",
    ")"
   ]
  },
  {
   "cell_type": "markdown",
   "id": "d553fbc2",
   "metadata": {},
   "source": [
    "Para testar a função mostrada anteriormente, nós podemos simplesmente criar uma outra função que se inicia com `test_` seguida do nome da função que desejamos testar, que é `extract_sentiment`.\n",
    "\n",
    "```python\n",
    "# sentiment.py\n",
    "from textblob import TextBlob\n",
    "\n",
    "def extract_sentiment(text: str):\n",
    "        '''Extrai um sentimento usando textblob. \n",
    "        Polaridade está no intervalo [-1, 1]'''\n",
    "\n",
    "        text = TextBlob(text)\n",
    "\n",
    "        return text.sentiment.polarity\n",
    "\n",
    "def test_extract_sentiment():\n",
    "\n",
    "    # Tradução: Eu acredito que hoje será um grande dia (nota¹)\n",
    "    text = \"I think today will be a great day\"\n",
    "\n",
    "    sentiment = extract_sentiment(text)\n",
    "\n",
    "    assert sentiment > 0\n",
    "```\n",
    "\n",
    "```{admonition} Nota¹\n",
    ":class: note\n",
    "\n",
    "Até o momento da tradução deste livro, a biblioteca `textblob` não apresenta suporte à lingua portuguesa.\n",
    "```\n",
    "\n",
    "Dentro da função de teste, nós usamos a função `extract_sentiment` em uma frase de exemplo: \"I think today will be a great day\", que em português significa \"Eu acredito que hoje será um grande dia\". Nós, então, usamos um `assert sentiment > 0` para garantir que aquele sentimento é positivo, pois esta é nossa expectativa.\n",
    "\n",
    "E tudo pronto! Hora de rodar nosso teste.\n",
    "\n",
    "Se o nome do nosso script for `sentiment.py`, podemos rodar:\n",
    "\n",
    "```bash\n",
    "pytest sentiment.py\n",
    "```\n",
    "\n",
    "O Pytest irá procurar e rodar por todas as funções que começam com `test` no script. A saída do teste acima será parecida com esta:\n",
    "\n",
    "```bash\n",
    "========================================== 1 passed in 0.68s ===========================================\n",
    "```\n",
    "\n",
    "Legal, não? Não precisamos nem especificar qual função rodar. A partir do momento em que colocamos `test` no começo da função de teste, o pytest detecta e executa automaticamente aquela função. Não precisamos nem sequer importar o pytest no script para rodar os testes.\n",
    "\n",
    "Qual será a saída caso algum dos testes do pytest falhar?\n",
    "\n",
    "```python\n",
    "#sentiment.py\n",
    "\n",
    "def test_extract_sentiment():\n",
    "\n",
    "    text = \"I think today will be a great day\"\n",
    "\n",
    "    sentiment = extract_sentiment(text)\n",
    "\n",
    "    assert sentiment < 0\n",
    "```\n",
    "\n",
    "```bash\n",
    "$ pytest sentiment.py\n",
    "_______________________________________ test_extract_sentiment ________________________________________\n",
    "\n",
    "def test_extract_sentiment():\n",
    "    \n",
    "        text = \"I think today will be a great day\"\n",
    "    \n",
    "        sentiment = extract_sentiment(text)\n",
    "    \n",
    ">       assert sentiment < 0\n",
    "E       assert 0.8 < 0\n",
    "========================================== 1 failed in 0.84s ===========================================\n",
    "```\n",
    "\n",
    "A partir da saída acima, podemos perceber que o teste falhou porque o sentimento retornado pela função é 0.8 e não é menor do que zero! Nós agora somos capazes de não só saber se a nossa função funciona como esperado, mas também o porquê ela não funciona. Com este insight maravilhoso, nós conseguimos consertar a nossa função para que ela funcione de acordo com o esperado."
   ]
  },
  {
   "cell_type": "markdown",
   "id": "47c18b9f",
   "metadata": {},
   "source": [
    "### Múltiplos testes para a mesma função\n",
    "\n",
    "Nós gostaríamos de testar a nossa função com outros exemplos. Como seriam os nomes destes novos testes?\n",
    "\n",
    "O nome do segundo teste poderia ser algo do tipo `test_extract_sentiment_2` ou `test_extract_sentiment_negative` caso o teste seja com um texto com sentimento negativo. O importante é que qualquer nome significativo é valido, desde que comece com `test`:\n",
    "\n",
    "```python\n",
    "#sentiment.py\n",
    "\n",
    "def test_extract_sentiment_positive():\n",
    "\n",
    "    # Tradução: Eu acredito que hoje será um grande dia\n",
    "    text = \"I think today will be a great day\"\n",
    "\n",
    "    sentiment = extract_sentiment(text)\n",
    "\n",
    "    assert sentiment > 0\n",
    "\n",
    "def test_extract_sentiment_negative():\n",
    "\n",
    "    # Tradução: Isso não vai acabar bem\n",
    "    text = \"I do not think this will turn out well\"\n",
    "\n",
    "    sentiment = extract_sentiment(text)\n",
    "\n",
    "    assert sentiment < 0\n",
    "```\n",
    "\n",
    "```bash\n",
    "$ pytest sentiment.py\n",
    "___________________________________ test_extract_sentiment_negative ____________________________________\n",
    "\n",
    "def test_extract_sentiment_negative():\n",
    "    \n",
    "        # Tradução: Isso não vai acabar bem\n",
    "        text = \"I do not think this will turn out well\"\n",
    "    \n",
    "        sentiment = extract_sentiment(text)\n",
    "    \n",
    ">       assert sentiment < 0\n",
    "E       assert 0.0 < 0\n",
    "===================================== 1 failed, 1 passed in 0.80s ======================================\n",
    "```\n",
    "\n",
    "O resultado dos testes nos mostra que apenas um dos testes passou e o outro falhou, e sabemos o porquê. Esperávamos que a saída da sentença \"I do not think this will turn out well\", que em português significa \"Isso não vai acabar bem\", fosse negativo, mas a função retornou 0, classificando a frase como neutra.\n",
    "\n",
    "Esse tipo de análise nos indica que a função pode não ter uma assertividade de 100 % e, portanto, devemos ter cuidado ao usá-la para extrair sentimentos de um texto. "
   ]
  },
  {
   "cell_type": "markdown",
   "id": "4242aa0b",
   "metadata": {},
   "source": [
    "### Parametrização: combinando testes"
   ]
  },
  {
   "cell_type": "code",
   "execution_count": 3,
   "id": "66781229",
   "metadata": {
    "ExecuteTime": {
     "end_time": "2022-03-31T02:23:44.431692Z",
     "start_time": "2022-03-31T02:23:44.418245Z"
    },
    "tags": [
     "remove-input"
    ]
   },
   "outputs": [
    {
     "data": {
      "text/html": [
       "<iframe width=\"560\"height=\"315\"src=\"https://www.youtube.com/embed/dnru6nSnwHU\"title=\"YouTube video player\"frameborder=\"0\"allow=\"accelerometer; autoplay; clipboard-write; encrypted-media; gyroscope; picture-in-picture\"allowfullscreen></iframe>"
      ],
      "text/plain": [
       "<IPython.core.display.HTML object>"
      ]
     },
     "execution_count": 3,
     "metadata": {},
     "output_type": "execute_result"
    }
   ],
   "source": [
    "from IPython.display import HTML\n",
    "\n",
    "# Youtube\n",
    "HTML(\n",
    "    '<iframe width=\"560\"' +\n",
    "    'height=\"315\"' +\n",
    "    'src=\"https://www.youtube.com/embed/dnru6nSnwHU\"' +\n",
    "    'title=\"YouTube video player\"' +\n",
    "    'frameborder=\"0\"' +\n",
    "    'allow=\"accelerometer; autoplay; clipboard-write; encrypted-media; gyroscope; picture-in-picture\"' +\n",
    "    'allowfullscreen>' + \n",
    "    '</iframe>'\n",
    ")"
   ]
  },
  {
   "cell_type": "markdown",
   "id": "15694b09",
   "metadata": {},
   "source": [
    "O exemplo acima mostra 2 testes para a mesma função. Será que não podemos combinar os 2 exemplos em uma única função de testes? É o que vamos aprender com parametrização de testes.\n",
    "\n",
    "#### Parametrizando com uma lista de exemplos\n",
    "\n",
    "Com o decorador `pytest.mark.parametrize()`, podemos executar testes com diferentes exemplos passando uma lista como argumento.\n",
    "\n",
    "```python\n",
    "# sentiment.py\n",
    "\n",
    "from textblob import TextBlob\n",
    "import pytest\n",
    "\n",
    "def extract_sentiment(text: str):\n",
    "        '''Extract sentiment using textblob. \n",
    "        Polarity is within range [-1, 1]'''\n",
    "\n",
    "        text = TextBlob(text)\n",
    "\n",
    "        return text.sentiment.polarity\n",
    "\n",
    "# Traduções: \"Eu acredito que hoje será um grande dia\", \"Isso não vai acabar bem\"\n",
    "testdata = [\"I think today will be a great day\",\"I do not think this will turn out well\"]\n",
    "\n",
    "@pytest.mark.parametrize('sample', testdata)\n",
    "def test_extract_sentiment(sample):\n",
    "\n",
    "    sentiment = extract_sentiment(sample)\n",
    "\n",
    "    assert sentiment > 0\n",
    "```\n",
    "\n",
    "No código acima, nós associamos à variável `sample` uma lista de frases, e então, passamos essa variável como argumento da função de teste. Agora cada frase da lista será testada uma de cada vez. Vejamos abaixo:\n",
    "\n",
    "```bash\n",
    "_____ test_extract_sentiment[I do not think this will turn out well] _____\n",
    "\n",
    "sample = 'I do not think this will turn out well'\n",
    "@pytest.mark.parametrize('sample', testdata)\n",
    "    def test_extract_sentiment(sample):\n",
    "    \n",
    "        sentiment = extract_sentiment(sample)\n",
    "    \n",
    ">       assert sentiment > 0\n",
    "E       assert 0.0 > 0\n",
    "====================== 1 failed, 1 passed in 0.80s ===================\n",
    "```\n",
    "\n",
    "Usando `parametrize()` é possível testar 2 exemplos diferentes na mesma função!\n",
    "\n",
    "#### Parametrizando uma lista de entradas diferentes com diferentes resultados esperados\n",
    "\n",
    "E se nós testássemos **diferentes exemplos** para ter **diferentes saídas**? O pytest permite também adicionar exemplos e resultados esperados como argumentos da nossa função de teste! \n",
    "\n",
    "Por exemplo, a função abaixo checa se um texto contém uma determinada palavra.\n",
    "\n",
    "```python\n",
    "def text_contain_word(word: str, text: str):\n",
    "    '''Procura por uma determinada palavra em um texto'''\n",
    "    \n",
    "    return word in text\n",
    "```\n",
    "\n",
    "Ela deve retornar `True` se o texto ou frase contiver a palavra.\n",
    "\n",
    "Caso a palavra seja \"pato\" e o texto for \"Há um pato no meio do texto\", nossa expectativa é que a função retorne `True`.\n",
    "\n",
    "Por outro lado, se a palavra for \"pato\" e o texto agora for \"Não há nada aqui\", nossa expectativa é que a função retorne `False`.\n",
    "\n",
    "Vamos usar o `parametrize()`, mas com uma lista de tuplas agora.\n",
    "\n",
    "```python\n",
    "# process.py\n",
    "import pytest\n",
    "def text_contain_word(word: str, text: str):\n",
    "    '''Procura por uma determinada palavra em um texto'''\n",
    "    \n",
    "    return word in text\n",
    "\n",
    "testdata = [\n",
    "    ('Há um pato no meio do texto',True),\n",
    "    ('Não há nada aqui', False)\n",
    "    ]\n",
    "\n",
    "@pytest.mark.parametrize('sample, expected_output', testdata)\n",
    "def test_text_contain_word(sample, expected_output):\n",
    "\n",
    "    word = 'pato'\n",
    "\n",
    "    assert text_contain_word(word, sample) == expected_output\n",
    "```\n",
    "\n",
    "A estrutura dos parâmetros da nossa função será `parametrize(‘sample, expected_out’, testdata)` com `testdata=[(<exemplo1>, <saida1>), (<exemplo2>, <saida2>)`\n",
    "\n",
    "```bash\n",
    "$ pytest process.py\n",
    "\n",
    "========================================== 2 passed in 0.04s ===========================================\n",
    "```\n",
    "\n",
    "Maravilha! Ambos os testes passaram!"
   ]
  },
  {
   "cell_type": "markdown",
   "id": "042bf5d8",
   "metadata": {},
   "source": [
    "### Testando uma função de cada vez\n",
    "\n",
    "Conforme o número de testes em nosso script começa a crescer, você pode desejar testar uma única função ao invés de vários ou todos de uma única vez. Isso pode ser feito através da sintaxe `pytest arquivo.py::nome_da_funcao_de_teste`.\n",
    "\n",
    "```python\n",
    "# process.py\n",
    "\n",
    "testdata = [\"I think today will be a great day\",\"I do not think this will turn out well\"]\n",
    "\n",
    "@pytest.mark.parametrize('sample', testdata)\n",
    "def test_extract_sentiment(sample):\n",
    "\n",
    "    sentiment = extract_sentiment(sample)\n",
    "\n",
    "    assert sentiment > 0\n",
    "\n",
    "\n",
    "testdata = [\n",
    "    ('Há um pato no meio do texto',True),\n",
    "    ('Não há nada aqui', False)\n",
    "    ]\n",
    "\n",
    "@pytest.mark.parametrize('sample, expected_output', testdata)\n",
    "def test_text_contain_word(sample, expected_output):\n",
    "\n",
    "    word = 'pato'\n",
    "\n",
    "    assert text_contain_word(word, sample) == expected_output\n",
    "```\n",
    "\n",
    "Por exemplo, se quisermos rodar apenas o teste `test_text_contain_word`, basta rodar no terminal:\n",
    "\n",
    "```bash\n",
    "$ pytest process.py::test_text_contain_word\n",
    "```\n",
    "\n",
    "E o pytest executará apenas o teste especificado!"
   ]
  },
  {
   "cell_type": "markdown",
   "id": "6e123711",
   "metadata": {},
   "source": [
    "### Fixtures: usando os mesmos dados para testar diferentes funções"
   ]
  },
  {
   "cell_type": "code",
   "execution_count": 4,
   "id": "b0903e01",
   "metadata": {
    "ExecuteTime": {
     "end_time": "2022-03-31T02:25:06.592470Z",
     "start_time": "2022-03-31T02:25:06.581256Z"
    },
    "tags": [
     "remove-input"
    ]
   },
   "outputs": [
    {
     "data": {
      "text/html": [
       "<iframe width=\"560\"height=\"315\"src=\"https://www.youtube.com/embed/Jx2G0BQIjMs\"title=\"YouTube video player\"frameborder=\"0\"allow=\"accelerometer; autoplay; clipboard-write; encrypted-media; gyroscope; picture-in-picture\"allowfullscreen></iframe>"
      ],
      "text/plain": [
       "<IPython.core.display.HTML object>"
      ]
     },
     "execution_count": 4,
     "metadata": {},
     "output_type": "execute_result"
    }
   ],
   "source": [
    "from IPython.display import HTML\n",
    "\n",
    "# Youtube\n",
    "HTML(\n",
    "    '<iframe width=\"560\"' +\n",
    "    'height=\"315\"' +\n",
    "    'src=\"https://www.youtube.com/embed/Jx2G0BQIjMs\"' +\n",
    "    'title=\"YouTube video player\"' +\n",
    "    'frameborder=\"0\"' +\n",
    "    'allow=\"accelerometer; autoplay; clipboard-write; encrypted-media; gyroscope; picture-in-picture\"' +  \n",
    "    'allowfullscreen>' + \n",
    "    '</iframe>'\n",
    ")"
   ]
  },
  {
   "cell_type": "markdown",
   "id": "bd02db11",
   "metadata": {},
   "source": [
    "E se quiséssemos usar os mesmos dados para testar diferentes funções? Por exemplo, gostaríamos de usar a frase \"Today I found a duck and I am happy\" para testar se ela contém a palavra \"duck\" **e também** se seu sentimento é positivo. A ideia é aplicar as duas funções à mesma frase \"Today I found a duck and I am happy\". É quando as `fixture` mostram o seu pontencial.\n",
    "\n",
    "As `fixtures` do pytest são uma forma de usar os mesmos dados para duas ou mais funções diferentes.\n",
    "\n",
    "```python\n",
    "@pytest.fixture\n",
    "def example_data():\n",
    "    return 'Today I found a duck and I am happy'\n",
    "\n",
    "\n",
    "def test_extract_sentiment(example_data):\n",
    "\n",
    "    sentiment = extract_sentiment(example_data)\n",
    "\n",
    "    assert sentiment > 0\n",
    "\n",
    "def test_text_contain_word(example_data):\n",
    "\n",
    "    word = 'duck'\n",
    "\n",
    "    assert text_contain_word(word, example_data) == True\n",
    "```\n",
    "\n",
    "No exemplo acima, criamos uma frase de exemplo com o decorador `@pytest.fixture` acima da função `example_data`. Essa função transforma `example_data` em uma variável com o valor \"Today I found a duck and I am happy\"\n",
    "\n",
    "Agora conseguimos usar essa variável como parâmetro de quaisquer outros testes!"
   ]
  },
  {
   "cell_type": "markdown",
   "id": "2c21a532",
   "metadata": {},
   "source": [
    "### Structure your Projects"
   ]
  },
  {
   "cell_type": "code",
   "execution_count": 5,
   "id": "7bf33162",
   "metadata": {
    "ExecuteTime": {
     "end_time": "2022-03-31T02:26:04.936666Z",
     "start_time": "2022-03-31T02:26:04.932235Z"
    },
    "tags": [
     "remove-input"
    ]
   },
   "outputs": [
    {
     "data": {
      "text/html": [
       "<iframe width=\"560\"height=\"315\"src=\"https://www.youtube.com/embed/714TfDztVVM\"title=\"YouTube video player\"frameborder=\"0\"allow=\"accelerometer; autoplay; clipboard-write; encrypted-media; gyroscope; picture-in-picture\"allowfullscreen></iframe>"
      ],
      "text/plain": [
       "<IPython.core.display.HTML object>"
      ]
     },
     "execution_count": 5,
     "metadata": {},
     "output_type": "execute_result"
    }
   ],
   "source": [
    "from IPython.display import HTML\n",
    "\n",
    "# Youtube\n",
    "HTML(\n",
    "    '<iframe width=\"560\"' +\n",
    "    'height=\"315\"' +\n",
    "    'src=\"https://www.youtube.com/embed/714TfDztVVM\"' +\n",
    "    'title=\"YouTube video player\"' +\n",
    "    'frameborder=\"0\"' +\n",
    "    'allow=\"accelerometer; autoplay; clipboard-write; encrypted-media; gyroscope; picture-in-picture\"' + \n",
    "    'allowfullscreen>'+ \n",
    "    '</iframe>'\n",
    ")"
   ]
  },
  {
   "cell_type": "markdown",
   "id": "2e0ec3ff",
   "metadata": {},
   "source": [
    "Por último, mas não menos importante, conforme o nosso código cresce, é ideal que coloquemos as nossas funções de ciência de dados e os seus respectivos testes em duas pastas diferentes. Isso facilita a localização de cada função e do teste correspondente.\n",
    "\n",
    "Nomeando as funções de teste seja com `test_<nome_da_funcao>.py` ou `<nome_da_funcao>_test.py`, o pytest encontrará os scripts que começam ou terminam com `test` e executará as funções cujos nomes iniciam com `test` dentro daquele script.\n",
    "\n",
    "Há diferentes formas de organizar seus arquivos. Você pode ou organizar seus scripts e funções na mesma pasta ou em duas pastas diferentes, uma com o código fonte e outra com os testes.\n",
    "\n",
    "Método 1:\n",
    "\n",
    "```bash\n",
    "test_structure_example/\n",
    "├── process.py\n",
    "└── test_process.py```\n",
    "```\n",
    "\n",
    "Método 2:\n",
    "\n",
    "```bash\n",
    "test_structure_example/\n",
    "├── src\n",
    "│   └── process.py\n",
    "└── tests\n",
    "    └── test_process.py\n",
    "```\n",
    "\n",
    "Tanto eu, autor da tradução, como a autora original recomendamos o método dois, pois torna mais fácil a organização conforme um projeto cresce.\n",
    "\n",
    "A organização do código e teste no método 2 ficará desta forma:\n",
    "\n",
    "```python\n",
    "# src/process.py\n",
    "from textblob import TextBlob\n",
    "\n",
    "def extract_sentiment(text: str):\n",
    "        '''Extract sentiment using textblob. \n",
    "        Polarity is within range [-1, 1]'''\n",
    "\n",
    "        text = TextBlob(text)\n",
    "\n",
    "        return text.sentiment.polarity\n",
    "```\n",
    "```python\n",
    "# tests/test_process.py\n",
    "import sys\n",
    "import os.path\n",
    "sys.path.append(\n",
    "    os.path.abspath(os.path.join(os.path.dirname(__file__), os.path.pardir)))\n",
    "from src.process import extract_sentiment\n",
    "import pytest\n",
    "\n",
    "\n",
    "def test_extract_sentiment():\n",
    "\n",
    "    text = 'Today I found a duck and I am happy'\n",
    "\n",
    "    sentiment = extract_sentiment(text)\n",
    "\n",
    "    assert sentiment > 0\n",
    "```\n",
    "\n",
    "O objetivo do comando `sys.path.append(os.path.abspath(os.path.join(os.path.dirname(__file__), os.path.pardir)))` é simplesmente adicionar o módulo `src` à variável de ambiente `PYTHONPATH` para permitir importações dos módulos e funções.\n",
    "\n",
    "Estando na pasta raíz do projeto (`test_structure_example/`), rode `pytest tests/test_process.py` ou então `pytest test_process.py`.\n",
    "\n",
    "```bash\n",
    "=========================== 1 passed in 0.69s ============================\n",
    "```"
   ]
  },
  {
   "cell_type": "markdown",
   "id": "c9c79592",
   "metadata": {},
   "source": []
  }
 ],
 "metadata": {
  "celltoolbar": "Tags",
  "kernelspec": {
   "display_name": "Python 3 (ipykernel)",
   "language": "python",
   "name": "python3"
  },
  "language_info": {
   "codemirror_mode": {
    "name": "ipython",
    "version": 3
   },
   "file_extension": ".py",
   "mimetype": "text/x-python",
   "name": "python",
   "nbconvert_exporter": "python",
   "pygments_lexer": "ipython3",
   "version": "3.10.0"
  },
  "toc": {
   "base_numbering": 1,
   "nav_menu": {},
   "number_sections": true,
   "sideBar": true,
   "skip_h1_title": false,
   "title_cell": "Table of Contents",
   "title_sidebar": "Contents",
   "toc_cell": false,
   "toc_position": {},
   "toc_section_display": true,
   "toc_window_display": false
  }
 },
 "nbformat": 4,
 "nbformat_minor": 5
}
