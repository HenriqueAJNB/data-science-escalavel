{
 "cells": [
  {
   "cell_type": "code",
   "execution_count": 1,
   "id": "efc5377b",
   "metadata": {
    "ExecuteTime": {
     "end_time": "2022-03-31T02:19:34.509812Z",
     "start_time": "2022-03-31T02:19:34.503682Z"
    },
    "tags": [
     "remove-cell"
    ]
   },
   "outputs": [],
   "source": [
    "import warnings\n",
    "warnings.filterwarnings(\"ignore\")"
   ]
  },
  {
   "cell_type": "markdown",
   "id": "a941aca0",
   "metadata": {},
   "source": [
    "## Pytest para cientista de dados\n",
    "\n"
   ]
  },
  {
   "cell_type": "markdown",
   "id": "247757e1",
   "metadata": {},
   "source": [
    "### O que é o Pytest?\n",
    "\n",
    "[Pytest](https://docs.pytest.org/en/stable/) é um framework que facilita a escrita de testes unitários em Python. A autora original do livro afirma gostar do Pytest pois permite a escrita de teses com pouco código, e eu, autor da tradução, concordo plenamente com ela. Se você já etá familiarizado com testes unitários, pytest é uma grande ferramenta para sair da inércia.\n",
    "\n",
    "Para instalar o pytest, basta rodar no terminal:\n",
    "\n",
    "```bash\n",
    "pip install pytest\n",
    "```\n",
    "\n",
    "Caso estiver usando o poetry:\n",
    "\n",
    "```bash\n",
    "poetry add pytest\n",
    "```"
   ]
  },
  {
   "cell_type": "code",
   "execution_count": 3,
   "id": "be543dfc",
   "metadata": {
    "ExecuteTime": {
     "end_time": "2022-03-31T02:19:36.364405Z",
     "start_time": "2022-03-31T02:19:36.353438Z"
    },
    "tags": [
     "remove-input"
    ]
   },
   "outputs": [
    {
     "data": {
      "text/html": [
       "<iframe width=\"560\" height=\"315\" src=\"https://www.youtube.com/embed/Y9tJeUIg-kc\" title=\"YouTube video player\" frameborder=\"0\" allow=\"accelerometer; autoplay; clipboard-write; encrypted-media; gyroscope; picture-in-picture\" allowfullscreen></iframe>"
      ],
      "text/plain": [
       "<IPython.core.display.HTML object>"
      ]
     },
     "execution_count": 3,
     "metadata": {},
     "output_type": "execute_result"
    }
   ],
   "source": [
    "from IPython.display import HTML\n",
    "\n",
    "# Youtube\n",
    "HTML(\n",
    "    '<iframe width=\"560\"' + \n",
    "    'height=\"315\"' + \n",
    "    'src=\"https://www.youtube.com/embed/Y9tJeUIg-kc\"' + \n",
    "    'title=\"YouTube video player\"' + \n",
    "    'frameborder=\"0\" allow=\"accelerometer; autoplay; clipboard-write; encrypted-media; gyroscope; picture-in-picture\"' + \n",
    "    'allowfullscreen>' + \n",
    "    '</iframe>'\n",
    ")"
   ]
  },
  {
   "cell_type": "markdown",
   "id": "d553fbc2",
   "metadata": {},
   "source": [
    "\n",
    "Para testar a função mostrada anteriormente, nós podemos simplesmente criar uma outra função que se inicia com `test_` seguida do nome da função que desejamos testar, que é `extract_sentiment`.\n",
    "\n",
    "```python\n",
    "# sentiment.py\n",
    "from textblob import TextBlob\n",
    "\n",
    "def extract_sentiment(text: str):\n",
    "        '''Extrai um sentimento usando textblob. \n",
    "        Polaridade está no intervalo [-1, 1]'''\n",
    "\n",
    "        text = TextBlob(text)\n",
    "\n",
    "        return text.sentiment.polarity\n",
    "\n",
    "def test_extract_sentiment():\n",
    "\n",
    "    # Tradução: Eu acredito que hoje será um grande dia (nota¹)\n",
    "    text = \"I think today will be a great day\"\n",
    "\n",
    "    sentiment = extract_sentiment(text)\n",
    "\n",
    "    assert sentiment > 0\n",
    "```\n",
    "\n",
    "```{admonition} Nota¹\n",
    ":class: note\n",
    "\n",
    "Até o momento da tradução deste livro, a biblioteca `textblob` não apresenta suporte à lingua portuguesa.\n",
    "```\n",
    "\n",
    "Dentro da função de teste, nós usamos a função `extract_sentiment` em uma frase de exemplo: \"I think today will be a great day\", que em português significa \"Eu acredito que hoje será um grande dia\". Nós, então, usamos um `assert sentiment > 0` para garantir que aquele sentimento é positivo, pois esta é nossa expectativa.\n",
    "\n",
    "E tudo pronto! Hora de rodar nosso teste.\n",
    "\n",
    "Se o nome do nosso script for `sentiment.py`, podemos rodar:\n",
    "\n",
    "```bash\n",
    "pytest sentiment.py\n",
    "```\n",
    "\n",
    "O Pytest irá procurar e rodar por todas as funções que começam com `test` no script. A saída do teste acima será parecida com esta:\n",
    "\n",
    "```bash\n",
    "========================================== 1 passed in 0.68s ===========================================\n",
    "```\n",
    "\n",
    "Legal, não? Não precisamos nem especificar qual função rodar. A partir do momento em que colocamos `test` no começo da função de teste, o pytest detecta e executa automaticamente aquela função. Não precisamos nem sequer importar o pytest no script para rodar os testes.\n",
    "\n",
    "Qual será a saída caso algum dos testes do pytest falhar?\n",
    "\n",
    "```python\n",
    "#sentiment.py\n",
    "\n",
    "def test_extract_sentiment():\n",
    "\n",
    "    text = \"I think today will be a great day\"\n",
    "\n",
    "    sentiment = extract_sentiment(text)\n",
    "\n",
    "    assert sentiment < 0\n",
    "```\n",
    "\n",
    "```bash\n",
    "$ pytest sentiment.py\n",
    "_______________________________________ test_extract_sentiment ________________________________________\n",
    "\n",
    "def test_extract_sentiment():\n",
    "    \n",
    "        text = \"I think today will be a great day\"\n",
    "    \n",
    "        sentiment = extract_sentiment(text)\n",
    "    \n",
    ">       assert sentiment < 0\n",
    "E       assert 0.8 < 0\n",
    "========================================== 1 failed in 0.84s ===========================================\n",
    "```\n",
    "\n",
    "A partir da saída acima, podemos perceber que o teste falhou porque o sentimento retornado pela função é 0.8 e não é menor do que zero! Nós agora somos capazes de não só saber se a nossa função funciona como esperado, mas também o porquê ela não funciona. Com este insight maravilhoso, nós conseguimos consertar a nossa função para que ela funcione de acordo com o esperado."
   ]
  },
  {
   "cell_type": "markdown",
   "id": "47c18b9f",
   "metadata": {},
   "source": [
    "### Multiple Tests for the Same Function\n",
    "\n",
    "We might want to test our function with other examples. What will the name of the new test function be?\n",
    "\n",
    "The second function’s name can be something like `test_extract_sentiment_2` or `test_extract_sentiment_negative` if we want to test our function on a text with negative sentiment. Any function name would work as long as it starts with `test`:\n",
    "\n",
    "```python\n",
    "#sentiment.py\n",
    "\n",
    "def test_extract_sentiment_positive():\n",
    "\n",
    "    text = \"I think today will be a great day\"\n",
    "\n",
    "    sentiment = extract_sentiment(text)\n",
    "\n",
    "    assert sentiment > 0\n",
    "\n",
    "def test_extract_sentiment_negative():\n",
    "\n",
    "    text = \"I do not think this will turn out well\"\n",
    "\n",
    "    sentiment = extract_sentiment(text)\n",
    "\n",
    "    assert sentiment < 0\n",
    "```\n",
    "\n",
    "```bash\n",
    "$ pytest sentiment.py\n",
    "___________________________________ test_extract_sentiment_negative ____________________________________\n",
    "\n",
    "def test_extract_sentiment_negative():\n",
    "    \n",
    "        text = \"I do not think this will turn out well\"\n",
    "    \n",
    "        sentiment = extract_sentiment(text)\n",
    "    \n",
    ">       assert sentiment < 0\n",
    "E       assert 0.0 < 0\n",
    "===================================== 1 failed, 1 passed in 0.80s ======================================\n",
    "```\n",
    "\n",
    "From the output, we know that one test passed and one failed and why the test failed. We expect the sentence \"I do not think this will turn out well\" to be negative, but it turns out to be 0.\n",
    "\n",
    "This helps us to understand that the function might not be accurate 100% of the time; thus, we should be cautious when using this function to extract the sentiment of a text."
   ]
  },
  {
   "cell_type": "markdown",
   "id": "4242aa0b",
   "metadata": {},
   "source": [
    "### Parametrization: Combining Tests"
   ]
  },
  {
   "cell_type": "code",
   "execution_count": 4,
   "id": "66781229",
   "metadata": {
    "ExecuteTime": {
     "end_time": "2022-03-31T02:23:44.431692Z",
     "start_time": "2022-03-31T02:23:44.418245Z"
    },
    "tags": [
     "remove-input"
    ]
   },
   "outputs": [
    {
     "data": {
      "text/html": [
       "<iframe width=\"560\" height=\"315\" src=\"https://www.youtube.com/embed/dnru6nSnwHU\" title=\"YouTube video player\" frameborder=\"0\" allow=\"accelerometer; autoplay; clipboard-write; encrypted-media; gyroscope; picture-in-picture\" allowfullscreen></iframe>"
      ],
      "text/plain": [
       "<IPython.core.display.HTML object>"
      ]
     },
     "execution_count": 4,
     "metadata": {},
     "output_type": "execute_result"
    }
   ],
   "source": [
    "from IPython.display import HTML\n",
    "\n",
    "# Youtube\n",
    "HTML('<iframe width=\"560\" height=\"315\" src=\"https://www.youtube.com/embed/dnru6nSnwHU\" title=\"YouTube video player\" frameborder=\"0\" allow=\"accelerometer; autoplay; clipboard-write; encrypted-media; gyroscope; picture-in-picture\" allowfullscreen></iframe>')"
   ]
  },
  {
   "cell_type": "markdown",
   "id": "15694b09",
   "metadata": {},
   "source": [
    "The 2 test functions above are used to test the same function. Is there any way we can combine 2 examples into one test function? That is when parameterization comes in handy.\n",
    "\n",
    "#### Parametrize with a List of Samples\n",
    "\n",
    "With `pytest.mark.parametrize()` , we can execute a test with different examples by providing a list of examples in the argument.\n",
    "\n",
    "```python\n",
    "# sentiment.py\n",
    "\n",
    "from textblob import TextBlob\n",
    "import pytest\n",
    "\n",
    "def extract_sentiment(text: str):\n",
    "        '''Extract sentiment using textblob. \n",
    "        Polarity is within range [-1, 1]'''\n",
    "\n",
    "        text = TextBlob(text)\n",
    "\n",
    "        return text.sentiment.polarity\n",
    "\n",
    "testdata = [\"I think today will be a great day\",\"I do not think this will turn out well\"]\n",
    "\n",
    "@pytest.mark.parametrize('sample', testdata)\n",
    "def test_extract_sentiment(sample):\n",
    "\n",
    "    sentiment = extract_sentiment(sample)\n",
    "\n",
    "    assert sentiment > 0\n",
    "```\n",
    "\n",
    "In the code above, we assign the variable `sample` to a list of samples, then add that variable to the argument of our test function. Now each example will be tested once at a time.\n",
    "\n",
    "```bash\n",
    "_____ test_extract_sentiment[I do not think this will turn out well] _____\n",
    "\n",
    "sample = 'I do not think this will turn out well'\n",
    "@pytest.mark.parametrize('sample', testdata)\n",
    "    def test_extract_sentiment(sample):\n",
    "    \n",
    "        sentiment = extract_sentiment(sample)\n",
    "    \n",
    ">       assert sentiment > 0\n",
    "E       assert 0.0 > 0\n",
    "====================== 1 failed, 1 passed in 0.80s ===================\n",
    "```\n",
    "\n",
    "Using `parametrize()`, we are able to test 2 different examples in once function!\n",
    "\n",
    "#### Parametrize with a List of Examples and Expected Outputs\n",
    "\n",
    "What if we expect **different examples** to have **different outputs**? Pytest also allows us to add examples and expected outputs to the argument of our test function!\n",
    "\n",
    "For example, the function below checks if the text contains a particular word.\n",
    "```python\n",
    "def text_contain_word(word: str, text: str):\n",
    "    '''Find whether the text contains a particular word'''\n",
    "    \n",
    "    return word in text\n",
    "```\n",
    "\n",
    "It will return `True` if the text contains the word.\n",
    "\n",
    "If the word is ‘duck’ and the text is ‘There is a duck in this text”, we expect the sentence to return `True.`\n",
    "\n",
    "If the word is ‘duck’ and the text is ‘There is nothing here”, we expect the sentence to return `False.`\n",
    "\n",
    "We will use `parametrize()` but with a list of tuples instead.\n",
    "\n",
    "```python\n",
    "# process.py\n",
    "import pytest\n",
    "def text_contain_word(word: str, text: str):\n",
    "    '''Find whether the text contains a particular word'''\n",
    "    \n",
    "    return word in text\n",
    "\n",
    "testdata = [\n",
    "    ('There is a duck in this text',True),\n",
    "    ('There is nothing here', False)\n",
    "    ]\n",
    "\n",
    "@pytest.mark.parametrize('sample, expected_output', testdata)\n",
    "def test_text_contain_word(sample, expected_output):\n",
    "\n",
    "    word = 'duck'\n",
    "\n",
    "    assert text_contain_word(word, sample) == expected_output\n",
    "```\n",
    "\n",
    "The structure of the parameters for our function is`parametrize(‘sample, expected_out’, testdata)` with `testdata=[(<sample1>, <output1>), (<sample2>, <output2>)`\n",
    "\n",
    "```bash\n",
    "$ pytest process.py\n",
    "\n",
    "========================================== 2 passed in 0.04s ===========================================\n",
    "```\n",
    "\n",
    "Awesome! Both of our tests passed!"
   ]
  },
  {
   "cell_type": "markdown",
   "id": "042bf5d8",
   "metadata": {},
   "source": [
    "### Test one Function at a time\n",
    "\n",
    "When the number of test functions in your script gets bigger, you may want to test one function instead of multiple functions at once. That could be easily done with `pytest file.py::function_name`.\n",
    "```python\n",
    "testdata = [\"I think today will be a great day\",\"I do not think this will turn out well\"]\n",
    "\n",
    "@pytest.mark.parametrize('sample', testdata)\n",
    "def test_extract_sentiment(sample):\n",
    "\n",
    "    sentiment = extract_sentiment(sample)\n",
    "\n",
    "    assert sentiment > 0\n",
    "\n",
    "\n",
    "testdata = [\n",
    "    ('There is a duck in this text',True),\n",
    "    ('There is nothing here', False)\n",
    "    ]\n",
    "\n",
    "@pytest.mark.parametrize('sample, expected_output', testdata)\n",
    "def test_text_contain_word(sample, expected_output):\n",
    "\n",
    "    word = 'duck'\n",
    "\n",
    "    assert text_contain_word(word, sample) == expected_output\n",
    "```\n",
    "\n",
    "For example, if you just want to run `test_text_contain_word`, run:\n",
    "\n",
    "```bash\n",
    "$ pytest process.py::test_text_contain_word\n",
    "```\n",
    "\n",
    "And pytest will just execute one test that we specify!"
   ]
  },
  {
   "cell_type": "markdown",
   "id": "6e123711",
   "metadata": {},
   "source": [
    "### Fixtures: Use the Same Data to Test Different Functions"
   ]
  },
  {
   "cell_type": "code",
   "execution_count": 5,
   "id": "b0903e01",
   "metadata": {
    "ExecuteTime": {
     "end_time": "2022-03-31T02:25:06.592470Z",
     "start_time": "2022-03-31T02:25:06.581256Z"
    },
    "tags": [
     "remove-input"
    ]
   },
   "outputs": [
    {
     "data": {
      "text/html": [
       "<iframe width=\"560\" height=\"315\" src=\"https://www.youtube.com/embed/Jx2G0BQIjMs\" title=\"YouTube video player\" frameborder=\"0\" allow=\"accelerometer; autoplay; clipboard-write; encrypted-media; gyroscope; picture-in-picture\" allowfullscreen></iframe>"
      ],
      "text/plain": [
       "<IPython.core.display.HTML object>"
      ]
     },
     "execution_count": 5,
     "metadata": {},
     "output_type": "execute_result"
    }
   ],
   "source": [
    "from IPython.display import HTML\n",
    "\n",
    "# Youtube\n",
    "HTML('<iframe width=\"560\" height=\"315\" src=\"https://www.youtube.com/embed/Jx2G0BQIjMs\" title=\"YouTube video player\" frameborder=\"0\" allow=\"accelerometer; autoplay; clipboard-write; encrypted-media; gyroscope; picture-in-picture\" allowfullscreen></iframe>')"
   ]
  },
  {
   "cell_type": "markdown",
   "id": "bd02db11",
   "metadata": {},
   "source": [
    "What if we want to use the same data to test different functions? For example, we want to test whether the sentence ‘Today I found a duck and I am happy” contains the word ‘duck’ **and** its sentiment is positive. We want to apply 2 functions for the same data: ‘Today I found a duck and I am happy”. That is when `fixture` comes in handy.\n",
    "\n",
    "`pytest` fixtures are a way of providing data to different test function:\n",
    "```python\n",
    "@pytest.fixture\n",
    "def example_data():\n",
    "    return 'Today I found a duck and I am happy'\n",
    "\n",
    "\n",
    "def test_extract_sentiment(example_data):\n",
    "\n",
    "    sentiment = extract_sentiment(example_data)\n",
    "\n",
    "    assert sentiment > 0\n",
    "\n",
    "def test_text_contain_word(example_data):\n",
    "\n",
    "    word = 'duck'\n",
    "\n",
    "    assert text_contain_word(word, example_data) == True\n",
    "```\n",
    "\n",
    "In the example above, we create an example data with the decorator `@pytest.fixture` above the function `example_data.` This will turn `example_data` into a variable with value \"Today I found a duck and I am happy\".\n",
    "\n",
    "Now, we can use `example_data` as the parameters for any tests!"
   ]
  },
  {
   "cell_type": "markdown",
   "id": "2c21a532",
   "metadata": {},
   "source": [
    "### Structure your Projects"
   ]
  },
  {
   "cell_type": "code",
   "execution_count": 6,
   "id": "7bf33162",
   "metadata": {
    "ExecuteTime": {
     "end_time": "2022-03-31T02:26:04.936666Z",
     "start_time": "2022-03-31T02:26:04.932235Z"
    },
    "tags": [
     "remove-input"
    ]
   },
   "outputs": [
    {
     "data": {
      "text/html": [
       "<iframe width=\"560\" height=\"315\" src=\"https://www.youtube.com/embed/714TfDztVVM\" title=\"YouTube video player\" frameborder=\"0\" allow=\"accelerometer; autoplay; clipboard-write; encrypted-media; gyroscope; picture-in-picture\" allowfullscreen></iframe>"
      ],
      "text/plain": [
       "<IPython.core.display.HTML object>"
      ]
     },
     "execution_count": 6,
     "metadata": {},
     "output_type": "execute_result"
    }
   ],
   "source": [
    "from IPython.display import HTML\n",
    "\n",
    "# Youtube\n",
    "HTML('<iframe width=\"560\" height=\"315\" src=\"https://www.youtube.com/embed/714TfDztVVM\" title=\"YouTube video player\" frameborder=\"0\" allow=\"accelerometer; autoplay; clipboard-write; encrypted-media; gyroscope; picture-in-picture\" allowfullscreen></iframe>')"
   ]
  },
  {
   "cell_type": "markdown",
   "id": "2e0ec3ff",
   "metadata": {},
   "source": [
    "Last but not least, when our code grows bigger, we might want to put data science functions and test functions in 2 different folders. This will make it easier for us to find the location for each function.\n",
    "\n",
    "Name our test function with either `test_<name>.py` or `<name>_test.py` . Pytest will search for the file whose name ends or starts with ‘test’ and executes the functions whose name starts with ‘test’ within that file. \n",
    "\n",
    "There are different ways to organize your files. You can either organize our data science file and test file in the same directory or in 2 different directories, one for source code and one for tests\n",
    "\n",
    "Method 1:\n",
    "\n",
    "```bash\n",
    "test_structure_example/\n",
    "├── process.py\n",
    "└── test_process.py```\n",
    "```\n",
    "\n",
    "Method 2:\n",
    "\n",
    "```bash\n",
    "test_structure_example/\n",
    "├── src\n",
    "│   └── process.py\n",
    "└── tests\n",
    "    └── test_process.py\n",
    "```\n",
    "\n",
    "Since you will most likely have multiple files for your data science functions and multiple files for your test functions, you might want to put them in separate directories like method 2.\n",
    "\n",
    "This is how 2 files will look like\n",
    "\n",
    "```python\n",
    "from textblob import TextBlob\n",
    "\n",
    "def extract_sentiment(text: str):\n",
    "        '''Extract sentiment using textblob. \n",
    "        Polarity is within range [-1, 1]'''\n",
    "\n",
    "        text = TextBlob(text)\n",
    "\n",
    "        return text.sentiment.polarity\n",
    "```\n",
    "```python\n",
    "import sys\n",
    "import os.path\n",
    "sys.path.append(\n",
    "    os.path.abspath(os.path.join(os.path.dirname(__file__), os.path.pardir)))\n",
    "from src.process import extract_sentiment\n",
    "import pytest\n",
    "\n",
    "\n",
    "def test_extract_sentiment():\n",
    "\n",
    "    text = 'Today I found a duck and I am happy'\n",
    "\n",
    "    sentiment = extract_sentiment(text)\n",
    "\n",
    "    assert sentiment > 0\n",
    "```\n",
    " Simply add `sys.path.append(os.path.abspath(os.path.join(os.path.dirname(__file__), os.path.pardir)))` to import functions from the parent directory.\n",
    "\n",
    "Under the root directory (`test_structure_example/`), run `pytest tests/test_process.py` or run `pytest test_process.py`.\n",
    "\n",
    "```bash\n",
    "=========================== 1 passed in 0.69s ============================\n",
    "```"
   ]
  }
 ],
 "metadata": {
  "celltoolbar": "Tags",
  "kernelspec": {
   "display_name": "Python 3 (ipykernel)",
   "language": "python",
   "name": "python3"
  },
  "language_info": {
   "codemirror_mode": {
    "name": "ipython",
    "version": 3
   },
   "file_extension": ".py",
   "mimetype": "text/x-python",
   "name": "python",
   "nbconvert_exporter": "python",
   "pygments_lexer": "ipython3",
   "version": "3.9.9"
  },
  "toc": {
   "base_numbering": 1,
   "nav_menu": {},
   "number_sections": true,
   "sideBar": true,
   "skip_h1_title": false,
   "title_cell": "Table of Contents",
   "title_sidebar": "Contents",
   "toc_cell": false,
   "toc_position": {},
   "toc_section_display": true,
   "toc_window_display": false
  }
 },
 "nbformat": 4,
 "nbformat_minor": 5
}
