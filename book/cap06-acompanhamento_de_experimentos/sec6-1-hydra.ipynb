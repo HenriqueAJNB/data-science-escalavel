{
 "cells": [
  {
   "cell_type": "code",
   "execution_count": 1,
   "metadata": {
    "ExecuteTime": {
     "end_time": "2022-03-24T22:46:17.720017Z",
     "start_time": "2022-03-24T22:46:17.716552Z"
    },
    "tags": [
     "remove-cell"
    ]
   },
   "outputs": [],
   "source": [
    "import warnings\n",
    "warnings.filterwarnings(\"ignore\")"
   ]
  },
  {
   "cell_type": "markdown",
   "metadata": {},
   "source": [
    "## Configure seus projetos de ciência de dados com Hydra\n"
   ]
  },
  {
   "cell_type": "markdown",
   "metadata": {},
   "source": [
    "### Introdução"
   ]
  },
  {
   "cell_type": "markdown",
   "metadata": {},
   "source": [
    "[Hydra](https://hydra.cc/) é uma ferramenta simples para gerenciar configurações complexas em Python. Para instalar o Hydra, digite:\n",
    "\n",
    "```bash\n",
    "pip install hydra-core\n",
    "```\n",
    "\n",
    "Se estiver usando o Poetry, então digite:\n",
    "\n",
    "```bash\n",
    "poetry add hydra-core\n",
    "```\n",
    "\n",
    "O vídeo abaixo mostra alguns recursos simples do Hydra. "
   ]
  },
  {
   "cell_type": "code",
   "execution_count": 2,
   "metadata": {
    "ExecuteTime": {
     "end_time": "2022-03-28T01:01:49.850070Z",
     "start_time": "2022-03-28T01:01:49.838752Z"
    },
    "tags": [
     "remove-input"
    ]
   },
   "outputs": [
    {
     "data": {
      "text/html": [
       "<iframe width=\"560\" height=\"315\" src=\"https://www.youtube.com/embed/IzEngnqOaRA\" title=\"YouTube video player\" frameborder=\"0\" allow=\"accelerometer; autoplay; clipboard-write; encrypted-media; gyroscope; picture-in-picture\" allowfullscreen></iframe>"
      ],
      "text/plain": [
       "<IPython.core.display.HTML object>"
      ]
     },
     "execution_count": 2,
     "metadata": {},
     "output_type": "execute_result"
    }
   ],
   "source": [
    "from IPython.display import HTML\n",
    "\n",
    "# Youtube\n",
    "HTML('<iframe width=\"560\" height=\"315\" src=\"https://www.youtube.com/embed/IzEngnqOaRA\" title=\"YouTube video player\" frameborder=\"0\" allow=\"accelerometer; autoplay; clipboard-write; encrypted-media; gyroscope; picture-in-picture\" allowfullscreen></iframe>')\n"
   ]
  },
  {
   "cell_type": "markdown",
   "metadata": {},
   "source": [
    "Imagine que seu arquivo de configuração YAML seja assim:\n",
    "\n",
    "```yaml\n",
    "process:\n",
    "  keep_columns:\n",
    "      - Income\n",
    "      - Recency\n",
    "      - NumWebVisitsMonth\n",
    "      - Complain\n",
    "      - age\n",
    "      - total_purchases\n",
    "      - enrollment_years\n",
    "      - family_size\n",
    "\n",
    "  remove_outliers_threshold:\n",
    "    age: 90\n",
    "    Income: 600000\n",
    "```\n",
    "Para acessar a lista em `process.keep_columns` no arquivo de configuração, basta adicionar o decorator `@hydra.main` à função que usa a configuração:\n",
    "\n",
    "```python\n",
    "import hydra\n",
    "from omegaconf import DictConfig, OmegaConf\n",
    "\n",
    "\n",
    "@hydra.main(config_path=\"../config\", config_name=\"main\")\n",
    "def process_data(config: DictConfig):\n",
    "\n",
    "    print(config.process.keep_columns)\n",
    "\n",
    "process_data()\n",
    "```\n",
    "Saída:\n",
    "```bash\n",
    "['Income', 'Recency', 'NumWebVisitsMonth', 'Complain', 'age', 'total_purchases', 'enrollment_years', 'family_size']\n",
    "```"
   ]
  },
  {
   "cell_type": "markdown",
   "metadata": {},
   "source": [
    "### Group Configuration Files"
   ]
  },
  {
   "cell_type": "code",
   "execution_count": 3,
   "metadata": {
    "ExecuteTime": {
     "end_time": "2022-03-28T01:01:57.126129Z",
     "start_time": "2022-03-28T01:01:57.115855Z"
    },
    "tags": [
     "remove-input"
    ]
   },
   "outputs": [
    {
     "data": {
      "text/html": [
       "<iframe width=\"560\" height=\"315\" src=\"https://www.youtube.com/embed/t9hwWxBnU0o?start=55\" title=\"YouTube video player\" frameborder=\"0\" allow=\"accelerometer; autoplay; clipboard-write; encrypted-media; gyroscope; picture-in-picture\" allowfullscreen></iframe>"
      ],
      "text/plain": [
       "<IPython.core.display.HTML object>"
      ]
     },
     "execution_count": 3,
     "metadata": {},
     "output_type": "execute_result"
    }
   ],
   "source": [
    "# Youtube\n",
    "HTML('<iframe width=\"560\" height=\"315\" src=\"https://www.youtube.com/embed/t9hwWxBnU0o?start=55\" title=\"YouTube video player\" frameborder=\"0\" allow=\"accelerometer; autoplay; clipboard-write; encrypted-media; gyroscope; picture-in-picture\" allowfullscreen></iframe>')"
   ]
  },
  {
   "cell_type": "markdown",
   "metadata": {},
   "source": [
    "Imagine a estrutura do seu diretório `config` assim:\n",
    "\n",
    "```bash\n",
    "config\n",
    "├── main.yaml\n",
    "└── process\n",
    "    ├── process_1.yaml\n",
    "    ├── process_2.yaml\n",
    "    ├── process_3.yaml\n",
    "    └── process_4.yaml\n",
    "```\n",
    "\n",
    "Cada arquivo tem valores diferentes para os mesmos parâmetros. Você pode definir os parâmetros no arquivo `process_2.yaml` como padrão adicionando o seguinte a `main.yaml`:\n",
    "```yaml\n",
    "defaults:\n",
    "  - process: process_2\n",
    "  - _self_\n",
    "```\n",
    "\n",
    "Agora os parâmetros em `main.yaml` são mesclados com os parâmetros em `process_2.yaml`.\n",
    "\n",
    "Executando o arquivo [`print_config.py`](https://github.com/khuyentran1401/hydra_demo/blob/master/hydra_group/src/print_config.py):\n",
    "\n",
    "```bash\n",
    "python print_config.py\n",
    "```\n",
    "\n",
    "Deve imprimir:\n",
    "\n",
    "```yaml\n",
    "# Do process_2.yaml\n",
    "process:\n",
    "  keep_columns:\n",
    "  - Income\n",
    "  - Recency\n",
    "  - NumWebVisitsMonth\n",
    "  - Complain\n",
    "  - age\n",
    "  - total_purchases\n",
    "  - enrollment_years\n",
    "  - family_size\n",
    "  remove_outliers_threshold:\n",
    "    age: 90\n",
    "    Income: 600000\n",
    "  family_size:\n",
    "    Married: 2\n",
    "    Together: 2\n",
    "    Absurd: 1\n",
    "    Widow: 1\n",
    "    YOLO: 1\n",
    "    Divorced: 1\n",
    "    Single: 1\n",
    "    Alone: 1\n",
    "\n",
    "# Do main.yaml\n",
    "raw_data:\n",
    "  path: data/raw/marketing_campaign.csv\n",
    "intermediate:\n",
    "  dir: data/intermediate\n",
    "  name: scale_features.csv\n",
    "  path: ${intermediate.dir}/${intermediate.name}\n",
    "flow: all\n",
    "image:\n",
    "  kmeans: image/elbow.png\n",
    "  clusters: image/cluster.png\n",
    "```\n"
   ]
  },
  {
   "cell_type": "markdown",
   "metadata": {},
   "source": [
    "### Sobrescrever Parâmetros Padrão"
   ]
  },
  {
   "cell_type": "code",
   "execution_count": 4,
   "metadata": {
    "ExecuteTime": {
     "end_time": "2022-03-28T00:58:07.641978Z",
     "start_time": "2022-03-28T00:58:07.632577Z"
    }
   },
   "outputs": [
    {
     "data": {
      "text/html": [
       "<iframe width=\"560\" height=\"315\" src=\"https://www.youtube.com/embed/t9hwWxBnU0o?start=167\" title=\"YouTube video player\" frameborder=\"0\" allow=\"accelerometer; autoplay; clipboard-write; encrypted-media; gyroscope; picture-in-picture\" allowfullscreen></iframe>"
      ],
      "text/plain": [
       "<IPython.core.display.HTML object>"
      ]
     },
     "execution_count": 4,
     "metadata": {},
     "output_type": "execute_result"
    }
   ],
   "source": [
    "HTML('<iframe width=\"560\" height=\"315\" src=\"https://www.youtube.com/embed/t9hwWxBnU0o?start=167\" title=\"YouTube video player\" frameborder=\"0\" allow=\"accelerometer; autoplay; clipboard-write; encrypted-media; gyroscope; picture-in-picture\" allowfullscreen></iframe>')"
   ]
  },
  {
   "cell_type": "markdown",
   "metadata": {},
   "source": [
    "Você também pode substituir os parâmetros padrão na linha de comando. Por exemplo, para substituir `process_2` por `process_1`, execute o seguinte:\n",
    "\n",
    "```bash\n",
    "python print_config.py process=process_1\n",
    "```\n",
    "\n",
    "A saída deve ser a combinação de todos os parâmetros em `main.yaml` e em `process_1.yaml`:\n",
    "\n",
    "```yaml\n",
    "# Do process_1.yaml\n",
    "process:\n",
    "  keep_columns:\n",
    "  - Income\n",
    "  - Recency\n",
    "  - NumWebVisitsMonth\n",
    "  - AcceptedCmp3\n",
    "  - AcceptedCmp4\n",
    "  - AcceptedCmp5\n",
    "  - AcceptedCmp1\n",
    "  - AcceptedCmp2\n",
    "  - Complain\n",
    "  - Response\n",
    "  - age\n",
    "  - total_purchases\n",
    "  - enrollment_years\n",
    "  - family_size\n",
    "  remove_outliers_threshold:\n",
    "    age: 90\n",
    "    Income: 600000\n",
    "  family_size:\n",
    "    Married: 2\n",
    "    Together: 2\n",
    "    Absurd: 1\n",
    "    Widow: 1\n",
    "    YOLO: 1\n",
    "    Divorced: 1\n",
    "    Single: 1\n",
    "    Alone: 1\n",
    "    \n",
    "# Do main.yaml\n",
    "raw_data:\n",
    "  path: data/raw/marketing_campaign.csv\n",
    "intermediate:\n",
    "  dir: data/intermediate\n",
    "  name: scale_features.csv\n",
    "  path: ${intermediate.dir}/${intermediate.name}\n",
    "flow: all\n",
    "image:\n",
    "  kmeans: image/elbow.png\n",
    "  clusters: image/cluster.png\n",
    "```"
   ]
  }
 ],
 "metadata": {
  "kernelspec": {
   "display_name": "Python 3.10.6 ('.venv': poetry)",
   "language": "python",
   "name": "python3"
  },
  "language_info": {
   "codemirror_mode": {
    "name": "ipython",
    "version": 3
   },
   "file_extension": ".py",
   "mimetype": "text/x-python",
   "name": "python",
   "nbconvert_exporter": "python",
   "pygments_lexer": "ipython3",
   "version": "3.10.6"
  },
  "orig_nbformat": 4,
  "vscode": {
   "interpreter": {
    "hash": "b5d12cacdae8bf27b92aca53fcdeec9175c7217f9318b9cadc388edf86eb2e83"
   }
  }
 },
 "nbformat": 4,
 "nbformat_minor": 2
}
